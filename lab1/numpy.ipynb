{
 "cells": [
  {
   "cell_type": "markdown",
   "metadata": {
    "id": "vC84e9kzyxPy"
   },
   "source": [
    "<h1>Импорт библиотек"
   ]
  },
  {
   "cell_type": "code",
   "execution_count": 3,
   "metadata": {
    "id": "cgKeNegmQG5S"
   },
   "outputs": [],
   "source": [
    "import numpy as np\n",
    "import matplotlib.pyplot as plt"
   ]
  },
  {
   "cell_type": "markdown",
   "metadata": {
    "id": "qFM9uVU2x4Ls"
   },
   "source": [
    "<h1>Задача 1. Дан набор из $p$ матриц размерностью $(n, n)$ и $p$ векторов размерностью $(n, 1)$, найти сумму произведений матриц на векторы. Написать тесты для кода"
   ]
  },
  {
   "cell_type": "code",
   "execution_count": null,
   "metadata": {
    "id": "IAbUvEiYyWFF"
   },
   "outputs": [],
   "source": [
    "import numpy as np\n",
    "import matplotlib.pyplot as plt\n",
    "\n",
    "\n",
    "def sum_prod(X, V):\n",
    "    '''\n",
    "    X - матрицы (n, n)\n",
    "    V - векторы (n, 1)\n",
    "    Гарантируется, что len(X) == len(V)\n",
    "    '''\n",
    "    result = 0\n",
    "    for i in range(len(X)):\n",
    "        matrix = X[i]\n",
    "        vector = V[i]\n",
    "        multiply = matrix.dot(vector)\n",
    "        result += multiply\n",
    "    return result\n",
    "\n",
    "\n",
    "def test_1():\n",
    "    matrixes = [\n",
    "        np.array([\n",
    "            [2, 2, 8],\n",
    "            [8, 5, 6],\n",
    "            [7, 8, 9]\n",
    "        ]),\n",
    "\n",
    "        np.array([\n",
    "            [9, 8, 7],\n",
    "            [7, 10, 4],\n",
    "            [3, 5, 6]\n",
    "        ]),\n",
    "\n",
    "        np.array([\n",
    "            [12, 321, 11],\n",
    "            [43, 75, 780],\n",
    "            [491, 875, 481]\n",
    "        ])\n",
    "    ]\n",
    "\n",
    "    vectors = [\n",
    "        np.array([[4], [7], [9]]),\n",
    "        np.array([[1], [2], [3]]),\n",
    "        np.array([[6], [1], [2]])\n",
    "    ]\n",
    "\n",
    "    expected_answer = [[555],\n",
    "                      [2053],\n",
    "                      [4979]]\n",
    "    actual_answer = sum_prod(matrixes, vectors)\n",
    "\n",
    "    return expected_answer == actual_answer\n",
    "\n",
    "\n",
    "def test_2():\n",
    "    matrixes = [\n",
    "        np.array([\n",
    "            [1, 2, 3, 4],\n",
    "            [7, 5, 6, 6],\n",
    "            [5, 8, 0, 8],\n",
    "            [0, 2, 0, 4]\n",
    "        ]),\n",
    "\n",
    "        np.array([\n",
    "            [123, 321, 111, 2],\n",
    "            [453, 765, 940, 3],\n",
    "            [491, 945, 481, 4],\n",
    "            [123, 4235, 1235, 1236]\n",
    "        ]),\n",
    "\n",
    "        np.array([\n",
    "            [7814, 1, 4834893, 2356],\n",
    "            [643, 8123, 0, 4983493674],\n",
    "            [32487, 1234, 345, 435],\n",
    "            [834893, 2, 123, 4]\n",
    "        ])\n",
    "    ]\n",
    "\n",
    "    vectors = [\n",
    "        np.array([[1], [2], [3], [8]]),\n",
    "        np.array([[4], [0], [6], [1]]),\n",
    "        np.array([[0], [54], [72], [12]])\n",
    "    ]\n",
    "\n",
    "    expected_answer = [[348141828],\n",
    "                      [-327171876],\n",
    "                      [101635],\n",
    "                      [18186]]\n",
    "\n",
    "    actual_answer = sum_prod(matrixes, vectors)\n",
    "\n",
    "    return expected_answer == actual_answer\n",
    "\n",
    "\n",
    "print(test_1())\n",
    "print(test_2())"
   ]
  },
  {
   "cell_type": "markdown",
   "metadata": {
    "id": "TKwPG4fIy2w4"
   },
   "source": [
    "<h1>Задача 2. Дана матрица M, напишите функцию, которая бинаризует матрицу по некоторому threshold (то есть, все значения большие threshold становятся равными 1, иначе 0). Напишите тесты для кода"
   ]
  },
  {
   "cell_type": "code",
   "execution_count": null,
   "metadata": {
    "id": "KQDNMgsjRNH7"
   },
   "outputs": [],
   "source": [
    "import numpy as np\n",
    "\n",
    "\n",
    "def binarize(M, threshold=0.5):\n",
    "    boolean_matrix = M > threshold\n",
    "    return boolean_matrix.astype(int)\n",
    "\n",
    "\n",
    "def test_1():\n",
    "    threshold = 0.6\n",
    "\n",
    "    matrix_to_binarize = np.array([\n",
    "        [0.6, 1, 2],\n",
    "        [0.4, 0.4, 0.4],\n",
    "        [10, 0.0, 1]\n",
    "    ])\n",
    "\n",
    "    expected_matrix = np.array([\n",
    "        [0, 1, 1],\n",
    "        [0, 0, 0],\n",
    "        [1, 0, 1]\n",
    "    ])\n",
    "\n",
    "    assert np.array_equal(binarize(matrix_to_binarize, threshold), expected_matrix), \"Не верно!\"\n",
    "    print(\"Тест пройден!\")\n",
    "\n",
    "\n",
    "def test_2():\n",
    "    threshold = 10\n",
    "\n",
    "    matrix_to_binarize = np.array([\n",
    "        [0.6, 1, 2, 50],\n",
    "        [0.4, 0.4, 0.4, 40],\n",
    "        [10, 0.0, 1, 2000]\n",
    "    ])\n",
    "\n",
    "    expected_matrix = np.array([\n",
    "        [0, 0, 0, 1],\n",
    "        [0, 0, 0, 1],\n",
    "        [0, 0, 0, 1]\n",
    "    ])\n",
    "\n",
    "    assert np.array_equal(binarize(matrix_to_binarize, threshold), expected_matrix), \"Не верно!\"\n",
    "    print(\"Тест пройден!\")\n",
    "\n",
    "test_1()\n",
    "test_2()"
   ]
  },
  {
   "cell_type": "markdown",
   "metadata": {
    "id": "IY5L-h-7zWhN"
   },
   "source": [
    "<h1>Задача 3. Напишите функцию, которая возвращает уникальные элементы из каждой строки матрицы. Напишите такую же функцию, но для столбцов. Напишите тесты для кода"
   ]
  },
  {
   "cell_type": "code",
   "execution_count": null,
   "metadata": {
    "id": "-8dEZhR0SBC-"
   },
   "outputs": [],
   "source": [
    "import collections\n",
    "import numpy as np\n",
    "import matplotlib.pyplot as plt\n",
    "\n",
    "\n",
    "def unique_rows_matrix(matrix):\n",
    "    unique_rows = []\n",
    "    for row in matrix:\n",
    "        unique_rows.append(list(set(row)))\n",
    "    return unique_rows\n",
    "\n",
    "\n",
    "def unique_columns_matrix(matrix):\n",
    "    unique_columns = []\n",
    "    for column in matrix.T:\n",
    "        unique_columns.append(list(set(column)))\n",
    "    return unique_columns\n",
    "\n",
    "\n",
    "def test_1():\n",
    "    matrix = np.array([\n",
    "            [6, 2, 2],\n",
    "            [1, 2, 3],\n",
    "            [6, 2, 3]\n",
    "        ])\n",
    "    actual_rows = unique_rows_matrix(matrix)\n",
    "    expected_rows = [\n",
    "        [2,6],\n",
    "        [1, 2, 3],\n",
    "        [2, 3, 6]\n",
    "    ]\n",
    "    actual_columns = unique_columns_matrix(matrix)\n",
    "    expected_columns = [\n",
    "        [1, 6],\n",
    "        [2],\n",
    "        [2, 3]\n",
    "    ]\n",
    "\n",
    "    assert expected_rows == actual_rows\n",
    "    assert expected_columns == actual_columns\n",
    "\n",
    "\n",
    "def test_2():\n",
    "    matrix = np.array([\n",
    "            [0, 0, 0, 0],\n",
    "            [7, 6, 6, 6],\n",
    "            [10, 1, 1, 2],\n",
    "            [1, 2, 7, 7]\n",
    "        ])\n",
    "    actual_rows = unique_rows_matrix(matrix)\n",
    "    actual_columns = unique_columns_matrix(matrix)\n",
    "    expected_rows = [[0], [6, 7], [1, 10, 2], [1, 2, 7]]\n",
    "    expected_columns = [[0, 1, 10, 7], [0, 1, 2, 6], [0, 1, 6, 7], [0, 2, 6, 7]]\n",
    "\n",
    "    assert expected_rows == actual_rows\n",
    "    assert expected_columns == actual_columns\n",
    "\n",
    "\n",
    "test_1()\n",
    "test_2()\n",
    "\n"
   ]
  },
  {
   "cell_type": "markdown",
   "metadata": {
    "id": "roYAlo4Jz-lH"
   },
   "source": [
    "<h1>Задача 4. Напишите функцию, которая заполняет матрицу с размерами $(m, n)$ случайными числами, распределенными по нормальному закону. Затем считает мат. ожидание и дисперсию для каждого из столбцов и строк, а также строит для каждой строки и столбца гистограмму значений (использовать функцию hist из модуля matplotlib.plot)"
   ]
  },
  {
   "cell_type": "code",
   "execution_count": null,
   "metadata": {
    "id": "nZK_71hMSQzv"
   },
   "outputs": [],
   "source": [
    "import matplotlib.pyplot as plt\n",
    "import numpy as np\n",
    "\n",
    "\n",
    "def create_normal_distribution_matrix(m, n, mu, sigma):\n",
    "    \"\"\"\n",
    "    :param m: Количество строк матрицы\n",
    "    :param n: Количество столбцов матрицы\n",
    "    :param mu: Среднее значение\n",
    "    :param sigma: Стандартное отклонение\n",
    "    :return:\n",
    "    \"\"\"\n",
    "    random_matrix = np.random.normal(mu, sigma, (m, n))\n",
    "\n",
    "    return random_matrix\n",
    "\n",
    "\n",
    "def get_mean(matrix, is_column=False, is_row=False):\n",
    "    if is_column:\n",
    "        return np.mean(matrix, axis=0)\n",
    "    elif is_row:\n",
    "        return np.mean(matrix, axis=1)\n",
    "\n",
    "\n",
    "def get_dispersion(matrix, is_column=False, is_row=False):\n",
    "    if is_column:\n",
    "        return np.var(matrix, axis=0)\n",
    "    elif is_row:\n",
    "        return np.var(matrix, axis=1)\n",
    "\n",
    "\n",
    "def draw_hist(matrix):\n",
    "    for row in matrix:\n",
    "        plt.hist(row, bins=30)\n",
    "        plt.xlabel('Значения')\n",
    "        plt.ylabel('Частота')\n",
    "        plt.show()\n",
    "\n",
    "    for column in matrix.T:\n",
    "        plt.hist(column, bins=30)\n",
    "        plt.xlabel('Значения')\n",
    "        plt.ylabel('Частота')\n",
    "        plt.show()\n",
    "\n",
    "\n",
    "matrix = create_normal_distribution_matrix(3, 3, 10, 3)\n",
    "print(f\"Матрица \\n {matrix}\")\n",
    "print(f\" Мат.ожидание столбцов матрицы {get_mean(matrix, is_column=True)} \\n \")\n",
    "print(f\" Мат.ожидание строк матрицы {get_mean(matrix, is_row=True)}\\n \")\n",
    "print(f\" Дисперсия столбцов матрицы {get_dispersion(matrix, is_column=True)}\\n \")\n",
    "print(f\" Дисперсия строк матрицы {get_dispersion(matrix, is_row=True)}\\n \")\n",
    "draw_hist(matrix)"
   ]
  },
  {
   "cell_type": "markdown",
   "metadata": {
    "id": "BDyATNdM0dJ2"
   },
   "source": [
    "<h1>Задача 5. Напишите функцию, которая заполняет матрицу $(m, n)$ в шахматном порядке заданными числами $a$ и $b$. Напишите тесты для кода"
   ]
  },
  {
   "cell_type": "code",
   "execution_count": null,
   "metadata": {
    "id": "RWNJYWQGecS6"
   },
   "outputs": [],
   "source": [
    "import numpy as np\n",
    "import matplotlib.pyplot as plt\n",
    "\n",
    "\n",
    "def chess(m, n, a, b):\n",
    "    matrix = np.zeros((m, n))\n",
    "    for i in range(m):\n",
    "        for j in range(n):\n",
    "            matrix[i, j] = a if (i + j) % 2 == 0 else b\n",
    "    return matrix\n",
    "\n",
    "\n",
    "def test_1():\n",
    "    correct_matrix = [[1, 2, 1, ],\n",
    "                      [2, 1, 2, ],\n",
    "                      [1, 2, 1]]\n",
    "    actual_matrix = chess(3, 3, 1, 2)\n",
    "\n",
    "    print(np.equal(correct_matrix, actual_matrix))\n",
    "\n",
    "\n",
    "def test_2():\n",
    "    correct_matrix = [[5, 6, 5, 6],\n",
    "                      [6, 5, 6, 5],\n",
    "                      [5, 6, 5, 6],\n",
    "                      [6, 5, 6, 5]]\n",
    "    actual_matrix = chess(4, 4, 5, 6)\n",
    "    print(np.equal(correct_matrix, actual_matrix))\n",
    "\n",
    "\n",
    "test_1()\n",
    "test_2()\n"
   ]
  },
  {
   "cell_type": "markdown",
   "metadata": {
    "id": "-ymXLtTN0vB6"
   },
   "source": [
    "<h1>Задача 6. Напишите функцию, которая отрисовывает прямоугольник с заданными размерами (a, b) на изображении размера (m, n), цвет фона задайте в схеме RGB, как и цвет прямоугольника. Цвета также должны быть параметрами функции. Напишите аналогичную функцию но для овала с полуосями a и b. Напишите тесты для кода.\n",
    "Примечание: уравнение эллипса (границы овала) можно записать как:\n",
    "<h1>$\\frac{(x-x_0)^2}{a^2}+\\frac{(y-y_0)^2}{b^2}=1$"
   ]
  },
  {
   "cell_type": "code",
   "execution_count": 1,
   "metadata": {
    "id": "sNfl1t_kfOF4"
   },
   "outputs": [],
   "source": [
    "import numpy as np\n",
    "import matplotlib.pyplot as plt\n",
    "\n",
    "\n",
    "def draw_rectangle(a, b, m, n, rectangle_color, background_color):\n",
    "    if a > m or b > n:\n",
    "        print(\"Прямоугольник не поместится на изображении\")\n",
    "        return\n",
    "\n",
    "    # Создаем пустое изображение с заданными размерами и цветом фона\n",
    "    image = [[(background_color)] * m for _ in range(n)]\n",
    "\n",
    "    # Задаем координаты верхнего левого угла и нижнего правого угла прямоугольника\n",
    "    x1, y1 = 0, 0\n",
    "    x2, y2 = a, b\n",
    "\n",
    "    # Заполняем прямоугольник цветом\n",
    "    for i in range(x1, x2):\n",
    "        for j in range(y1, y2):\n",
    "            image[i][j] = rectangle_color\n",
    "\n",
    "    # Отображаем изображение\n",
    "    plt.imshow(image)\n",
    "    # Отключаем оси\n",
    "    plt.axis('off')\n",
    "    plt.show()\n",
    "\n",
    "\n",
    "def draw_ellipse(a, b, m, n, background_color, ellipse_color):\n",
    "    theta = np.linspace(0, 2 * np.pi, 100)\n",
    "    image = [[(background_color)] * m for _ in range(n)]\n",
    "    # Массивы точек границ эллипса\n",
    "    x = a * np.cos(theta)\n",
    "    y = b * np.sin(theta)\n",
    "\n",
    "    # Отображение изображения с новыми начальными координатами\n",
    "    plt.imshow(image, extent=(-a, a, b, -b))\n",
    "    plt.plot(x, y, color=ellipse_color)\n",
    "    plt.show()\n",
    "\n",
    "\n",
    "def test_draw_rectangle():\n",
    "    draw_rectangle(90, 100, 250, 250, (250, 0, 0), (0, 0, 200))\n",
    "\n",
    "\n",
    "def test_draw_ellipse():\n",
    "    draw_ellipse(100, 100, 700, 700, (250, 0, 0), (0 / 255, 0 / 255, 200 / 255))\n",
    "\n",
    "\n",
    "test_draw_rectangle()\n",
    "test_draw_ellipse()\n"
   ]
  },
  {
   "cell_type": "markdown",
   "metadata": {
    "id": "S82c38oz244H"
   },
   "source": [
    "<h1>Задача 7. Дан некий временной ряд. Для данного ряда нужно найти его: математическое ожидание, дисперсию, СКО, найти все локальные максимумы и минимумы (локальный максимум - это точка, которая больше своих соседних точек, а локальный минимум - это точка, которая меньше своих соседей), а также вычислить для данного ряда другой ряд, получаемый методом скользящего среднего с размером окна $p$.\n",
    "<h1>Примечание: метод скользящего среднего подразумевает нахождение среднего из подмножетсва ряда размером $p$"
   ]
  },
  {
   "cell_type": "code",
   "execution_count": null,
   "metadata": {
    "id": "Zb9mIVge5MMt"
   },
   "outputs": [],
   "source": [
    "import random\n",
    "import numpy as np\n",
    "import matplotlib.pyplot as plt\n",
    "\n",
    "n = 10\n",
    "arr = [random.randint(-200, 200) for _ in range(n)]\n",
    "\n",
    "\n",
    "def get_local_maxs(arr):\n",
    "    local_maxs = []\n",
    "    for i in range(1, n - 1):\n",
    "        if arr[i] > arr[i - 1] and arr[i] > arr[i + 1]:\n",
    "            local_maxs.append(arr[i])\n",
    "    return local_maxs\n",
    "\n",
    "\n",
    "def get_local_mins(arr):\n",
    "    local_mins = []\n",
    "    for i in range(1, n - 1):\n",
    "        if arr[i] < arr[i - 1] and arr[i] < arr[i + 1]:\n",
    "            local_mins.append(arr[i])\n",
    "    return local_mins\n",
    "\n",
    "\n",
    "def get_moving_average(arr, p):\n",
    "    weights = np.ones(p) / p\n",
    "    # Вычисление скользящего среднего с использованием весов\n",
    "    return np.convolve(arr, weights, mode='valid')\n",
    "\n",
    "\n",
    "print(f\"Дисперсия: {np.var(arr)}\")\n",
    "print(f\"Исходный список: {arr}\")\n",
    "print(f\"Среднее ожидание: {np.mean(arr)}\")\n",
    "print(f\"СКО: {np.std(arr)}\")\n",
    "print(f\"Локальные минимумы: {get_local_mins(arr)}\")\n",
    "print(f\"Локальные максимумы: {get_local_maxs(arr)}\")\n",
    "print(f\"Скользящее среднее из исходного ряда с окном p=2: {get_moving_average(arr, 2)}\")\n",
    "print(f\"Скользящее среднее из исходного ряда с окном p=5: {get_moving_average(arr, 5)}\")"
   ]
  },
  {
   "cell_type": "markdown",
   "metadata": {
    "id": "jPkylmOX5O9n"
   },
   "source": [
    "<h1> Задача 8. Дан некоторый вектор с целочисленными метками классов, напишите функцию, которая выполняет one-hot-encoding для данного вектора\n",
    "<h1> One-hot-encoding - представление, в котором на месте метки некоторого класса стоит 1, в остальных позициях стоит 0. Например для вектора [0, 2, 3, 0] one-hot-encoding выглядит как: [[1, 0, 0, 0], [0, 0, 1, 0], [0, 0, 0, 1], [1, 0, 0, 0]]"
   ]
  },
  {
   "cell_type": "code",
   "execution_count": null,
   "metadata": {
    "id": "Y-jlnZvw56lD"
   },
   "outputs": [],
   "source": [
    "import numpy as np\n",
    "\n",
    "\n",
    "def one_hot_encoding(array):\n",
    "    shape = (array.size, array.max() + 1)\n",
    "    result = np.zeros(shape)\n",
    "    rows = np.arange(array.size)\n",
    "    result[rows, array] = 1\n",
    "    return result\n",
    "\n"
   ]
  }
 ],
 "metadata": {
  "colab": {
   "provenance": []
  },
  "kernelspec": {
   "display_name": "Python 3 (ipykernel)",
   "language": "python",
   "name": "python3"
  },
  "language_info": {
   "codemirror_mode": {
    "name": "ipython",
    "version": 3
   },
   "file_extension": ".py",
   "mimetype": "text/x-python",
   "name": "python",
   "nbconvert_exporter": "python",
   "pygments_lexer": "ipython3",
   "version": "3.11.2"
  }
 },
 "nbformat": 4,
 "nbformat_minor": 4
}
