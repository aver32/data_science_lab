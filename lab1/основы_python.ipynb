{
 "cells": [
  {
   "cell_type": "markdown",
   "metadata": {
    "id": "M-DGa20PaHnu"
   },
   "source": [
    "#Задача 1\n",
    "Написать функцию на вход которой подается строка, состоящая из латинских букв.\n",
    "Функция должна вернуть количество гласных букв (a, e, i, o, u) в этой строке. Написать тесты для кода"
   ]
  },
  {
   "cell_type": "code",
   "execution_count": null,
   "metadata": {
    "id": "XvX8X_JJ6PCb"
   },
   "outputs": [],
   "source": [
    "import re\n",
    "input_text = \"abc\"\n",
    "vowels = ['a','e','i','o','u']\n",
    "\n",
    "def count_vowels(input_text):\n",
    "    if not re.search(r'[A-Za-z]', input_text):\n",
    "        return \"error\"\n",
    "    vowels_count = 0\n",
    "    for char in input_text.lower():\n",
    "        if char in vowels:\n",
    "            vowels_count += 1\n",
    "    return vowels_count\n",
    "\n",
    "print(count_vowels(input_text))\n",
    "\n",
    "def test_latins():\n",
    "    assert count_vowels(\"123\") == \"error\"\n",
    "\n",
    "def test_count():\n",
    "    assert count_vowels(\"abcde\") == 2\n",
    "\n",
    "test_latins()\n",
    "test_count()"
   ]
  },
  {
   "cell_type": "markdown",
   "metadata": {
    "id": "t2ClV_Y0bbr6"
   },
   "source": [
    "# Задача 2\n",
    "Написать функцию на вход, которой подается строка. Функция должна вернуть true, если\n",
    "каждый символ в строке встречается только 1 раз, иначе должна вернуть false. Написать тесты для кода"
   ]
  },
  {
   "cell_type": "code",
   "execution_count": null,
   "metadata": {
    "id": "FppbECao6VIz"
   },
   "outputs": [],
   "source": [
    "def check_uniqueness(input_text):\n",
    "    return len(set(input_text)) == len(input_text)\n",
    "\n",
    "\n",
    "def test_uniqueness_chars_true():\n",
    "    assert check_uniqueness(\"abc\") == True\n",
    "\n",
    "def test_uniqueness_chars_false():\n",
    "    assert check_uniqueness(\"aabc\") == False\n",
    "\n",
    "test_uniqueness_chars_true()\n",
    "test_uniqueness_chars_false()"
   ]
  },
  {
   "cell_type": "markdown",
   "metadata": {
    "id": "udRiIK1cdt6E"
   },
   "source": [
    "# Задача 3\n",
    "Написать функцию, которая принимает положительное число и возвращает количество\n",
    "бит равных 1 в этом числе. Написать тесты для кода"
   ]
  },
  {
   "cell_type": "code",
   "execution_count": 2,
   "metadata": {
    "id": "6tkfDJRz6dp_"
   },
   "outputs": [],
   "source": [
    "def get_1_bit_count_even_number(number):\n",
    "    if number <= 0:\n",
    "        return\n",
    "\n",
    "    bin_number = bin(number)\n",
    "    return bin_number.count(\"1\")\n",
    "\n",
    "def test_1_bit_count_get_1():\n",
    "    assert get_1_bit_count_even_number(4) == 1\n",
    "\n",
    "def test_1_bit_count_get_2():\n",
    "    assert get_1_bit_count_even_number(10) == 2\n",
    "\n",
    "test_1_bit_count_get_1()\n",
    "test_1_bit_count_get_2()"
   ]
  },
  {
   "cell_type": "markdown",
   "metadata": {
    "id": "26dDUz-Ae17N"
   },
   "source": [
    "# Задача 4\n",
    "Написать функцию, которая принимает положительное число. Функция должна вернуть то,\n",
    "сколько раз необходимо перемножать цифры числа или результат перемножения, чтобы\n",
    "получилось число состоящее из одной цифры.\n",
    "Например, для входного числа:\n",
    "· 39 функция должна вернуть 3, так как 3*9=27 => 2*7=14 => 1*4=4\n",
    "· 4 функция должна вернуть 0, так как число уже состоит из одной цифры\n",
    "· 999 функция должна вернуть 4, так как 9*9*9=729 => 7*2*9=126 => 1*2*6=12 =>\n",
    "1*2=2. Написать тесты для кода"
   ]
  },
  {
   "cell_type": "code",
   "execution_count": null,
   "metadata": {
    "id": "BH1A_Mgi6i4G"
   },
   "outputs": [],
   "source": [
    "import math\n",
    "\n",
    "\n",
    "def get_numbers(number):\n",
    "    numbers = []\n",
    "    while number > 0:\n",
    "        numbers.append(number % 10)\n",
    "        number //= 10\n",
    "    return numbers\n",
    "\n",
    "\n",
    "def multiply_count(number, count=0):\n",
    "    if number <= 0:\n",
    "        return\n",
    "\n",
    "    if number // 10 == 0:\n",
    "        return count\n",
    "    else:\n",
    "        x = get_numbers(number)\n",
    "        b = math.prod(x)\n",
    "        count += 1\n",
    "        return multiply_count(b, count)\n",
    "\n",
    "\n",
    "def test_one_digit():\n",
    "    assert multiply_count(39) == 3\n",
    "\n",
    "\n",
    "def test_two_digits():\n",
    "    assert multiply_count(7) == 0\n",
    "\n",
    "\n",
    "def test_three_digits():\n",
    "    assert multiply_count(999) == 4\n",
    "\n",
    "\n",
    "test_one_digit()\n",
    "test_two_digits()\n",
    "test_three_digits()"
   ]
  },
  {
   "cell_type": "markdown",
   "metadata": {
    "id": "0nS-kIa8g8vd"
   },
   "source": [
    "# Задача 5\n",
    "Написать функцию, которая принимает два целочисленных вектора одинаковой длины и\n",
    "возвращает среднеквадратическое отклонение двух векторов. Написать тесты для кода"
   ]
  },
  {
   "cell_type": "code",
   "execution_count": null,
   "metadata": {
    "id": "8iphx4LM6xbx"
   },
   "outputs": [],
   "source": [
    "def mse(pred, true):\n",
    "    if len(pred) != len(true):\n",
    "        return\n",
    "\n",
    "    n = len(pred)\n",
    "\n",
    "    return (1/n) * sum((pred[i] - true[i]) ** 2 for i in range(n))\n",
    "\n",
    "\n",
    "def test_1():\n",
    "    pred = [12, 13, 14, 15, 15, 22, 27]\n",
    "    true = [11, 13, 14, 14, 15, 16, 18]\n",
    "    assert mse(pred, true) == 17\n",
    "\n",
    "\n",
    "def test_2():\n",
    "    pred = [1, 1, 1]\n",
    "    true = [0, 0, 0]\n",
    "    assert mse(pred, true) == 1\n",
    "\n",
    "\n",
    "test_1()\n",
    "test_2()"
   ]
  },
  {
   "cell_type": "markdown",
   "metadata": {
    "id": "vpIPKL439zkw"
   },
   "source": [
    "# Задача 6\n",
    "Написать функцию, принимающая целое положительное число. Функция должна вернуть\n",
    "строку вида “(n1**p1)(n2**p2)…(nk**pk)” представляющая разложение числа на простые\n",
    "множители (если pi == 1, то выводить только ni).\n",
    "Например, для числа 86240 функция должна вернуть “(2**5)(5)(7**2)(11)”. Написать тесты для кода"
   ]
  },
  {
   "cell_type": "code",
   "execution_count": null,
   "metadata": {
    "id": "pFebmcZk94Jw"
   },
   "outputs": [],
   "source": [
    "def get_simple_multipliers(n):\n",
    "    multipliers = []\n",
    "    d = 2\n",
    "    while d * d <= n:\n",
    "        if n % d == 0:\n",
    "            multipliers.append(d)\n",
    "            n //= d\n",
    "        else:\n",
    "            d += 1\n",
    "    if n > 1:\n",
    "        multipliers.append(n)\n",
    "    return multipliers\n",
    "\n",
    "\n",
    "def simple_dividers(number):\n",
    "    prime_numbers = get_simple_multipliers(number)\n",
    "    n = len(prime_numbers)\n",
    "    i = 0\n",
    "    dividers = \"\"\n",
    "    while i < n:\n",
    "        degree = prime_numbers.count(prime_numbers[i])\n",
    "        if degree > 1:\n",
    "            dividers += f\"({prime_numbers[i]}**{degree})\"\n",
    "        else:\n",
    "            dividers += f\"({prime_numbers[i]})\"\n",
    "        i += degree\n",
    "    return dividers\n",
    "\n",
    "\n",
    "def test_86240():\n",
    "    assert \"(2**5)(5)(7**2)(11)\" == simple_dividers(86240)\n",
    "\n",
    "def test_45():\n",
    "    assert \"(3**2)(5)\" == simple_dividers(45)\n",
    "\n",
    "test_86240()\n",
    "test_45()"
   ]
  },
  {
   "cell_type": "markdown",
   "metadata": {
    "id": "ps2s0BudX7A2"
   },
   "source": [
    "# Задача 7\n",
    "Написать функцию, принимающая целое число n, задающее количество кубиков. Функция\n",
    "должна определить, можно ли из данного кол-ва кубиков построить пирамиду, то есть\n",
    "можно ли представить число n как 1^2+2^2+3^2+…+k^2. Если можно, то функция должна\n",
    "вернуть k, иначе строку “It is impossible”. Написать тесты для кода"
   ]
  },
  {
   "cell_type": "code",
   "execution_count": null,
   "metadata": {
    "id": "3YPjEXxhX_YT"
   },
   "outputs": [],
   "source": [
    "def pyramid(number):\n",
    "    k = 0\n",
    "    summ = 0\n",
    "    \n",
    "    for i in range(1, int(number ** 0.5 + 1)):\n",
    "        k += 1\n",
    "        summ += i ** 2\n",
    "        if summ == number:\n",
    "            return k\n",
    "    return \"It is impossible\"\n",
    "\n",
    "\n",
    "def test_build_pyramid():\n",
    "    assert pyramid(5) == 2\n",
    "    assert pyramid(12) == \"It is impossible\"\n",
    "    assert pyramid(1) == 1\n",
    "\n",
    "\n",
    "test_build_pyramid()"
   ]
  },
  {
   "cell_type": "markdown",
   "metadata": {
    "id": "KeKgmIdAQMEJ"
   },
   "source": [
    "# Задача 8\n",
    "Функция принимает на вход положительное число и определяет является ли оно сбалансированным, т.е. сумма цифр до средних равна сумме цифр после. Средними в случае нечетного числа цифр считать одну цифру, в случае четного - две средних. Написать тесты для кода"
   ]
  },
  {
   "cell_type": "code",
   "execution_count": null,
   "metadata": {
    "id": "gMAAqtqlQrZt"
   },
   "outputs": [],
   "source": [
    "def get_numbers(number):\n",
    "    numbers = []\n",
    "    while number > 0:\n",
    "        numbers.append(number % 10)\n",
    "        number //= 10\n",
    "    return numbers\n",
    "\n",
    "\n",
    "def is_balanced(number):\n",
    "    numbers = get_numbers(number)\n",
    "    n = len(numbers)\n",
    "    middle_index = (n - 1) // 2\n",
    "\n",
    "    if n % 2 == 0:\n",
    "        left = numbers[:middle_index]\n",
    "        right = numbers[middle_index + 2:]\n",
    "        return sum(left) == sum(right)\n",
    "    else:\n",
    "        left = numbers[:middle_index]\n",
    "        right = numbers[middle_index + 1:]\n",
    "        return sum(left) == sum(right)\n",
    "\n",
    "\n",
    "def test_even():\n",
    "    assert is_balanced(1212) is False\n",
    "\n",
    "\n",
    "def test_odd():\n",
    "    assert is_balanced(12312) is True\n",
    "\n",
    "\n",
    "def test_even_true():\n",
    "    assert is_balanced(1231) is True\n",
    "\n",
    "\n",
    "test_odd()\n",
    "test_even()\n",
    "test_even_true()"
   ]
  }
 ],
 "metadata": {
  "colab": {
   "provenance": []
  },
  "kernelspec": {
   "display_name": "Python 3 (ipykernel)",
   "language": "python",
   "name": "python3"
  },
  "language_info": {
   "codemirror_mode": {
    "name": "ipython",
    "version": 3
   },
   "file_extension": ".py",
   "mimetype": "text/x-python",
   "name": "python",
   "nbconvert_exporter": "python",
   "pygments_lexer": "ipython3",
   "version": "3.11.2"
  }
 },
 "nbformat": 4,
 "nbformat_minor": 4
}
