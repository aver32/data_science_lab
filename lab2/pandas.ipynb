{
 "cells": [
  {
   "cell_type": "markdown",
   "id": "64d44da9-558f-4634-9de8-de0f46f93cfe",
   "metadata": {},
   "source": [
    "## Часть 1: Введение в Pandas\n",
    "\n",
    "Pandas - это библиотека Python для работы с данными. Она предоставляет мощные инструменты для анализа и манипуляции данными.\n",
    "\n",
    "### Установка Pandas\n",
    "\n",
    "Для начала убедитесь, что у вас установлена библиотека Pandas. Если ее нет, установите ее с помощью команды:\n"
   ]
  },
  {
   "cell_type": "code",
   "execution_count": null,
   "id": "7484df51-b002-414c-ae42-75a2df57c78d",
   "metadata": {},
   "outputs": [],
   "source": [
    "!pip install pandas"
   ]
  },
  {
   "cell_type": "markdown",
   "id": "4b655e29-c3a5-4117-9860-2d6b9af62ac1",
   "metadata": {},
   "source": [
    "## Импорт библиотеки\n",
    "Давайте начнем с импорта библиотеки Pandas:"
   ]
  },
  {
   "cell_type": "code",
   "execution_count": 4,
   "id": "bfc3346f-3843-4aff-aec0-54321b9774f0",
   "metadata": {
    "tags": []
   },
   "outputs": [],
   "source": [
    "import pandas as pd"
   ]
  },
  {
   "cell_type": "markdown",
   "id": "ea8530e9-c179-48c1-8043-ff87f415ee67",
   "metadata": {},
   "source": [
    "## Часть 2: Работа с данными\n",
    "### Чтение данных\n",
    "Мы будем использовать датасет Titanic. Давайте прочитаем данные из CSV файла."
   ]
  },
  {
   "cell_type": "code",
   "execution_count": 23,
   "id": "fa5deec6-c85e-4d88-89df-bea7d75fcbba",
   "metadata": {},
   "outputs": [],
   "source": [
    "data_frame = pd.read_csv(\"titanic.csv\")"
   ]
  },
  {
   "cell_type": "markdown",
   "id": "07dfd488-4960-495e-80d8-9cf5903449b6",
   "metadata": {},
   "source": [
    "### Предпросмотр данных\n",
    "Для первого ознакомления с данными давайте выведем первые несколько строк."
   ]
  },
  {
   "cell_type": "code",
   "execution_count": 18,
   "id": "216e104c-259f-4ecd-9cd4-40362f61ca4e",
   "metadata": {},
   "outputs": [
    {
     "name": "stdout",
     "output_type": "stream",
     "text": [
      "   PassengerId  Survived  Pclass  \\\n",
      "0            1         0       3   \n",
      "1            2         1       1   \n",
      "2            3         1       3   \n",
      "3            4         1       1   \n",
      "4            5         0       3   \n",
      "\n",
      "                                                Name     Sex   Age  SibSp  \\\n",
      "0                            Braund, Mr. Owen Harris    male  22.0      1   \n",
      "1  Cumings, Mrs. John Bradley (Florence Briggs Th...  female  38.0      1   \n",
      "2                             Heikkinen, Miss. Laina  female  26.0      0   \n",
      "3       Futrelle, Mrs. Jacques Heath (Lily May Peel)  female  35.0      1   \n",
      "4                           Allen, Mr. William Henry    male  35.0      0   \n",
      "\n",
      "   Parch            Ticket     Fare Cabin Embarked  \n",
      "0      0         A/5 21171   7.2500   NaN        S  \n",
      "1      0          PC 17599  71.2833   C85        C  \n",
      "2      0  STON/O2. 3101282   7.9250   NaN        S  \n",
      "3      0            113803  53.1000  C123        S  \n",
      "4      0            373450   8.0500   NaN        S  \n"
     ]
    }
   ],
   "source": [
    "print(data_frame.head(5))"
   ]
  },
  {
   "cell_type": "markdown",
   "id": "b7ba5f57-07e1-4c0f-9b55-9d78638ee2cc",
   "metadata": {},
   "source": [
    "### Информация о данных\n",
    "Чтобы получить общую информацию о данных, воспользуйтесь методом .info()."
   ]
  },
  {
   "cell_type": "code",
   "execution_count": 19,
   "id": "43650b4f-f3e7-4480-b874-b5552f564383",
   "metadata": {},
   "outputs": [
    {
     "name": "stdout",
     "output_type": "stream",
     "text": [
      "<class 'pandas.core.frame.DataFrame'>\n",
      "RangeIndex: 891 entries, 0 to 890\n",
      "Data columns (total 12 columns):\n",
      " #   Column       Non-Null Count  Dtype  \n",
      "---  ------       --------------  -----  \n",
      " 0   PassengerId  891 non-null    int64  \n",
      " 1   Survived     891 non-null    int64  \n",
      " 2   Pclass       891 non-null    int64  \n",
      " 3   Name         891 non-null    object \n",
      " 4   Sex          891 non-null    object \n",
      " 5   Age          714 non-null    float64\n",
      " 6   SibSp        891 non-null    int64  \n",
      " 7   Parch        891 non-null    int64  \n",
      " 8   Ticket       891 non-null    object \n",
      " 9   Fare         891 non-null    float64\n",
      " 10  Cabin        204 non-null    object \n",
      " 11  Embarked     889 non-null    object \n",
      "dtypes: float64(2), int64(5), object(5)\n",
      "memory usage: 83.7+ KB\n",
      "None\n"
     ]
    }
   ],
   "source": [
    "print(data_frame.info())"
   ]
  },
  {
   "cell_type": "markdown",
   "id": "a6857118-a82e-4586-a933-4eb0df9cb74e",
   "metadata": {},
   "source": [
    "### Работа с NaN\n",
    "Часто данные содержат пропущенные значения, которые представляются как NaN (Not a Number). Pandas предоставляет удобные методы для работы с ними.\n",
    "\n",
    "Проверка на наличие NaN. Методы fillna и dropna возвращают новые Dataframe, проверьте нет ли в них NaN"
   ]
  },
  {
   "cell_type": "code",
   "execution_count": 20,
   "id": "f7910fde-24f7-4cf8-991d-01f08bc45b63",
   "metadata": {
    "tags": []
   },
   "outputs": [
    {
     "name": "stdout",
     "output_type": "stream",
     "text": [
      "     PassengerId  Survived  Pclass   Name    Sex    Age  SibSp  Parch  Ticket  \\\n",
      "0          False     False   False  False  False  False  False  False   False   \n",
      "1          False     False   False  False  False  False  False  False   False   \n",
      "2          False     False   False  False  False  False  False  False   False   \n",
      "3          False     False   False  False  False  False  False  False   False   \n",
      "4          False     False   False  False  False  False  False  False   False   \n",
      "..           ...       ...     ...    ...    ...    ...    ...    ...     ...   \n",
      "886        False     False   False  False  False  False  False  False   False   \n",
      "887        False     False   False  False  False  False  False  False   False   \n",
      "888        False     False   False  False  False   True  False  False   False   \n",
      "889        False     False   False  False  False  False  False  False   False   \n",
      "890        False     False   False  False  False  False  False  False   False   \n",
      "\n",
      "      Fare  Cabin  Embarked  \n",
      "0    False   True     False  \n",
      "1    False  False     False  \n",
      "2    False   True     False  \n",
      "3    False  False     False  \n",
      "4    False   True     False  \n",
      "..     ...    ...       ...  \n",
      "886  False   True     False  \n",
      "887  False  False     False  \n",
      "888  False   True     False  \n",
      "889  False  False     False  \n",
      "890  False   True     False  \n",
      "\n",
      "[891 rows x 12 columns]\n"
     ]
    }
   ],
   "source": [
    "print(data_frame.isna())"
   ]
  },
  {
   "cell_type": "markdown",
   "id": "1dadeaf7-e214-4552-b054-8e4a03714f72",
   "metadata": {},
   "source": [
    "Заполнение NaN"
   ]
  },
  {
   "cell_type": "code",
   "execution_count": null,
   "id": "7d901187-75a9-497e-8774-6e0dde584197",
   "metadata": {},
   "outputs": [],
   "source": [
    "print(data_frame.fillna(0))"
   ]
  },
  {
   "cell_type": "markdown",
   "id": "6f32fddb-ec60-456b-8958-5c81b0357d49",
   "metadata": {},
   "source": [
    "Удаление строк с NaN"
   ]
  },
  {
   "cell_type": "code",
   "execution_count": 21,
   "id": "4d188deb-0818-4b01-b3a5-9d20d2166d10",
   "metadata": {
    "tags": []
   },
   "outputs": [
    {
     "name": "stdout",
     "output_type": "stream",
     "text": [
      "     PassengerId  Survived  Pclass  \\\n",
      "1              2         1       1   \n",
      "3              4         1       1   \n",
      "6              7         0       1   \n",
      "10            11         1       3   \n",
      "11            12         1       1   \n",
      "..           ...       ...     ...   \n",
      "871          872         1       1   \n",
      "872          873         0       1   \n",
      "879          880         1       1   \n",
      "887          888         1       1   \n",
      "889          890         1       1   \n",
      "\n",
      "                                                  Name     Sex   Age  SibSp  \\\n",
      "1    Cumings, Mrs. John Bradley (Florence Briggs Th...  female  38.0      1   \n",
      "3         Futrelle, Mrs. Jacques Heath (Lily May Peel)  female  35.0      1   \n",
      "6                              McCarthy, Mr. Timothy J    male  54.0      0   \n",
      "10                     Sandstrom, Miss. Marguerite Rut  female   4.0      1   \n",
      "11                            Bonnell, Miss. Elizabeth  female  58.0      0   \n",
      "..                                                 ...     ...   ...    ...   \n",
      "871   Beckwith, Mrs. Richard Leonard (Sallie Monypeny)  female  47.0      1   \n",
      "872                           Carlsson, Mr. Frans Olof    male  33.0      0   \n",
      "879      Potter, Mrs. Thomas Jr (Lily Alexenia Wilson)  female  56.0      0   \n",
      "887                       Graham, Miss. Margaret Edith  female  19.0      0   \n",
      "889                              Behr, Mr. Karl Howell    male  26.0      0   \n",
      "\n",
      "     Parch    Ticket     Fare        Cabin Embarked  \n",
      "1        0  PC 17599  71.2833          C85        C  \n",
      "3        0    113803  53.1000         C123        S  \n",
      "6        0     17463  51.8625          E46        S  \n",
      "10       1   PP 9549  16.7000           G6        S  \n",
      "11       0    113783  26.5500         C103        S  \n",
      "..     ...       ...      ...          ...      ...  \n",
      "871      1     11751  52.5542          D35        S  \n",
      "872      0       695   5.0000  B51 B53 B55        S  \n",
      "879      1     11767  83.1583          C50        C  \n",
      "887      0    112053  30.0000          B42        S  \n",
      "889      0    111369  30.0000         C148        C  \n",
      "\n",
      "[183 rows x 12 columns]\n"
     ]
    }
   ],
   "source": [
    "print(data_frame.dropna())"
   ]
  },
  {
   "cell_type": "markdown",
   "id": "7a4ff131-1593-4cd2-b2bc-e0ddb2442d3b",
   "metadata": {},
   "source": [
    "## Часть 3: Обработка DataFrame\n",
    "### Выбор данных\n",
    "Pandas позволяет выбирать данные по индексам, меткам столбцов и условиям."
   ]
  },
  {
   "cell_type": "code",
   "execution_count": 24,
   "id": "d11f6114-ce4b-4e71-afec-adf1d8c1ec6e",
   "metadata": {
    "tags": []
   },
   "outputs": [
    {
     "name": "stdout",
     "output_type": "stream",
     "text": [
      "0        1\n",
      "1        2\n",
      "2        3\n",
      "3        4\n",
      "4        5\n",
      "      ... \n",
      "886    887\n",
      "887    888\n",
      "888    889\n",
      "889    890\n",
      "890    891\n",
      "Name: PassengerId, Length: 891, dtype: int64\n",
      "     PassengerId  Survived\n",
      "0              1         0\n",
      "1              2         1\n",
      "2              3         1\n",
      "3              4         1\n",
      "4              5         0\n",
      "..           ...       ...\n",
      "886          887         0\n",
      "887          888         1\n",
      "888          889         0\n",
      "889          890         1\n",
      "890          891         0\n",
      "\n",
      "[891 rows x 2 columns]\n",
      "PassengerId                                               4\n",
      "Survived                                                  1\n",
      "Pclass                                                    1\n",
      "Name           Futrelle, Mrs. Jacques Heath (Lily May Peel)\n",
      "Sex                                                  female\n",
      "Age                                                    35.0\n",
      "SibSp                                                     1\n",
      "Parch                                                     0\n",
      "Ticket                                               113803\n",
      "Fare                                                   53.1\n",
      "Cabin                                                  C123\n",
      "Embarked                                                  S\n",
      "Name: 3, dtype: object\n",
      "     PassengerId  Survived  Pclass                                            Name   Sex   Age  SibSp  Parch              Ticket      Fare        Cabin Embarked\n",
      "4              5         0       3                        Allen, Mr. William Henry  male  35.0      0      0              373450    8.0500          NaN        S\n",
      "6              7         0       1                         McCarthy, Mr. Timothy J  male  54.0      0      0               17463   51.8625          E46        S\n",
      "13            14         0       3                     Andersson, Mr. Anders Johan  male  39.0      1      5              347082   31.2750          NaN        S\n",
      "20            21         0       2                            Fynney, Mr. Joseph J  male  35.0      0      0              239865   26.0000          NaN        S\n",
      "21            22         1       2                           Beesley, Mr. Lawrence  male  34.0      0      0              248698   13.0000          D56        S\n",
      "30            31         0       1                        Uruchurtu, Don. Manuel E  male  40.0      0      0            PC 17601   27.7208          NaN        C\n",
      "33            34         0       2                           Wheadon, Mr. Edward H  male  66.0      0      0          C.A. 24579   10.5000          NaN        S\n",
      "35            36         0       1                  Holverson, Mr. Alexander Oskar  male  42.0      1      0              113789   52.0000          NaN        S\n",
      "54            55         0       1                  Ostby, Mr. Engelhart Cornelius  male  65.0      0      1              113509   61.9792          B30        C\n",
      "62            63         0       1                     Harris, Mr. Henry Birkhardt  male  45.0      1      0               36973   83.4750          C83        S\n",
      "70            71         0       2                      Jenkin, Mr. Stephen Curnow  male  32.0      0      0          C.A. 33111   10.5000          NaN        S\n",
      "74            75         1       3                                   Bing, Mr. Lee  male  32.0      0      0                1601   56.4958          NaN        S\n",
      "92            93         0       1                     Chaffee, Mr. Herbert Fuller  male  46.0      1      0         W.E.P. 5734   61.1750          E31        S\n",
      "94            95         0       3                               Coxon, Mr. Daniel  male  59.0      0      0              364500    7.2500          NaN        S\n",
      "96            97         0       1                       Goldschmidt, Mr. George B  male  71.0      0      0            PC 17754   34.6542           A5        C\n",
      "99           100         0       2                               Kantor, Mr. Sinai  male  34.0      1      0              244367   26.0000          NaN        S\n",
      "103          104         0       3                      Johansson, Mr. Gustaf Joel  male  33.0      0      0                7540    8.6542          NaN        S\n",
      "104          105         0       3                  Gustafsson, Mr. Anders Vilhelm  male  37.0      2      0             3101276    7.9250          NaN        S\n",
      "108          109         0       3                                 Rekic, Mr. Tido  male  38.0      0      0              349249    7.8958          NaN        S\n",
      "110          111         0       1                  Porter, Mr. Walter Chamberlain  male  47.0      0      0              110465   52.0000         C110        S\n",
      "116          117         0       3                            Connors, Mr. Patrick  male  70.5      0      0              370369    7.7500          NaN        Q\n",
      "122          123         0       2                            Nasser, Mr. Nicholas  male  32.5      1      0              237736   30.0708          NaN        C\n",
      "124          125         0       1                     White, Mr. Percival Wayland  male  54.0      0      1               35281   77.2875          D26        S\n",
      "129          130         0       3                              Ekstrom, Mr. Johan  male  45.0      0      0              347061    6.9750          NaN        S\n",
      "130          131         0       3                            Drazenoic, Mr. Jozef  male  33.0      0      0              349241    7.8958          NaN        C\n",
      "137          138         0       1                     Futrelle, Mr. Jacques Heath  male  37.0      1      0              113803   53.1000         C123        S\n",
      "148          149         0       2        Navratil, Mr. Michel (\"Louis M Hoffman\")  male  36.5      0      2              230080   26.0000           F2        S\n",
      "149          150         0       2               Byles, Rev. Thomas Roussel Davids  male  42.0      0      0              244310   13.0000          NaN        S\n",
      "150          151         0       2                      Bateman, Rev. Robert James  male  51.0      0      0         S.O.P. 1166   12.5250          NaN        S\n",
      "152          153         0       3                                Meo, Mr. Alfonzo  male  55.5      0      0          A.5. 11206    8.0500          NaN        S\n",
      "153          154         0       3                 van Billiard, Mr. Austin Blyler  male  40.5      0      2            A/5. 851   14.5000          NaN        S\n",
      "155          156         0       1                     Williams, Mr. Charles Duane  male  51.0      0      1            PC 17597   61.3792          NaN        C\n",
      "160          161         0       3                        Cribb, Mr. John Hatfield  male  44.0      0      1              371362   16.1000          NaN        S\n",
      "170          171         0       1                       Van der hoef, Mr. Wyckoff  male  61.0      0      0              111240   33.5000          B19        S\n",
      "174          175         0       1                         Smith, Mr. James Clinch  male  56.0      0      0               17764   30.6958           A7        C\n",
      "179          180         0       3                             Leonard, Mr. Lionel  male  36.0      0      0                LINE    0.0000          NaN        S\n",
      "187          188         1       1   Romaine, Mr. Charles Hallace (\"Mr C Rolmane\")  male  45.0      0      0              111428   26.5500          NaN        S\n",
      "188          189         0       3                                Bourke, Mr. John  male  40.0      1      1              364849   15.5000          NaN        Q\n",
      "189          190         0       3                             Turcin, Mr. Stjepan  male  36.0      0      0              349247    7.8958          NaN        S\n",
      "197          198         0       3                Olsen, Mr. Karl Siegwart Andreas  male  42.0      0      1                4579    8.4042          NaN        S\n",
      "202          203         0       3                      Johanson, Mr. Jakob Alfred  male  34.0      0      0             3101264    6.4958          NaN        S\n",
      "203          204         0       3                            Youseff, Mr. Gerious  male  45.5      0      0                2628    7.2250          NaN        C\n",
      "206          207         0       3                      Backstrom, Mr. Karl Alfred  male  32.0      1      0             3101278   15.8500          NaN        S\n",
      "209          210         1       1                                Blank, Mr. Henry  male  40.0      0      0              112277   31.0000          A31        C\n",
      "217          218         0       2                    Jacobsohn, Mr. Sidney Samuel  male  42.0      1      0              243847   27.0000          NaN        S\n",
      "222          223         0       3                         Green, Mr. George Henry  male  51.0      0      0               21440    8.0500          NaN        S\n",
      "224          225         1       1                    Hoyt, Mr. Frederick Maxfield  male  38.0      1      0               19943   90.0000          C93        S\n",
      "232          233         0       2                       Sjostedt, Mr. Ernst Adolf  male  59.0      0      0              237442   13.5000          NaN        S\n",
      "236          237         0       2                               Hold, Mr. Stephen  male  44.0      1      0               26707   26.0000          NaN        S\n",
      "239          240         0       2                          Hunt, Mr. George Henry  male  33.0      0      0          SCO/W 1585   12.2750          NaN        S\n",
      "245          246         0       1                     Minahan, Dr. William Edward  male  44.0      2      0               19928   90.0000          C78        Q\n",
      "248          249         1       1                   Beckwith, Mr. Richard Leonard  male  37.0      1      1               11751   52.5542          D35        S\n",
      "249          250         0       2                   Carter, Rev. Ernest Courtenay  male  54.0      1      0              244252   26.0000          NaN        S\n",
      "252          253         0       1                       Stead, Mr. William Thomas  male  62.0      0      0              113514   26.5500          C87        S\n",
      "262          263         0       1                               Taussig, Mr. Emil  male  52.0      1      1              110413   79.6500          E67        S\n",
      "263          264         0       1                           Harrison, Mr. William  male  40.0      0      0              112059    0.0000          B94        S\n",
      "265          266         0       2                               Reeves, Mr. David  male  36.0      0      0          C.A. 17248   10.5000          NaN        S\n",
      "273          274         0       1                           Natsch, Mr. Charles H  male  37.0      0      1            PC 17596   29.7000         C118        C\n",
      "280          281         0       3                                Duane, Mr. Frank  male  65.0      0      0              336439    7.7500          NaN        Q\n",
      "285          286         0       3                             Stankovic, Mr. Ivan  male  33.0      0      0              349239    8.6625          NaN        C\n",
      "288          289         1       2                            Hosono, Mr. Masabumi  male  42.0      0      0              237798   13.0000          NaN        S\n",
      "292          293         0       2                          Levy, Mr. Rene Jacques  male  36.0      0      0       SC/Paris 2163   12.8750            D        C\n",
      "314          315         0       2                              Hart, Mr. Benjamin  male  43.0      1      1        F.C.C. 13529   26.2500          NaN        S\n",
      "317          318         0       2                            Moraweck, Dr. Ernest  male  54.0      0      0               29011   14.0000          NaN        S\n",
      "326          327         0       3                       Nysveen, Mr. Johan Hansen  male  61.0      0      0              345364    6.2375          NaN        S\n",
      "331          332         0       1                             Partner, Mr. Austen  male  45.5      0      0              113043   28.5000         C124        S\n",
      "332          333         0       1                       Graham, Mr. George Edward  male  38.0      0      1            PC 17582  153.4625          C91        S\n",
      "338          339         1       3                           Dahl, Mr. Karl Edwart  male  45.0      0      0                7598    8.0500          NaN        S\n",
      "339          340         0       1                    Blackwell, Mr. Stephen Weart  male  45.0      0      0              113784   35.5000            T        S\n",
      "344          345         0       2                         Fox, Mr. Stanley Hubert  male  36.0      0      0              229236   13.0000          NaN        S\n",
      "349          350         0       3                                Dimic, Mr. Jovan  male  42.0      0      0              315088    8.6625          NaN        S\n",
      "360          361         0       3                              Skoog, Mr. Wilhelm  male  40.0      1      4              347088   27.9000          NaN        S\n",
      "363          364         0       3                                 Asim, Mr. Adola  male  35.0      0      0  SOTON/O.Q. 3101310    7.0500          NaN        S\n",
      "382          383         0       3                              Tikkanen, Mr. Juho  male  32.0      0      0   STON/O 2. 3101293    7.9250          NaN        S\n",
      "390          391         1       1                      Carter, Mr. William Ernest  male  36.0      1      2              113760  120.0000      B96 B98        S\n",
      "397          398         0       2                         McKane, Mr. Peter David  male  46.0      0      0               28403   26.0000          NaN        S\n",
      "400          401         1       3                              Niskanen, Mr. Juha  male  39.0      0      0   STON/O 2. 3101289    7.9250          NaN        S\n",
      "405          406         0       2                              Gale, Mr. Shadrach  male  34.0      1      0               28664   21.0000          NaN        S\n",
      "406          407         0       3                Widegren, Mr. Carl/Charles Peter  male  51.0      0      0              347064    7.7500          NaN        S\n",
      "414          415         1       3                       Sundman, Mr. Johan Julian  male  44.0      0      0   STON/O 2. 3101269    7.9250          NaN        S\n",
      "429          430         1       3              Pickard, Mr. Berk (Berk Trembisky)  male  32.0      0      0   SOTON/O.Q. 392078    8.0500          E10        S\n",
      "434          435         0       1                       Silvey, Mr. William Baird  male  50.0      1      0               13507   55.9000          E44        S\n",
      "438          439         0       1                               Fortune, Mr. Mark  male  64.0      1      4               19950  263.0000  C23 C25 C27        S\n",
      "439          440         0       2          Kvillner, Mr. Johan Henrik Johannesson  male  31.0      0      0          C.A. 18723   10.5000          NaN        S\n",
      "447          448         1       1                     Seward, Mr. Frederic Kimber  male  34.0      0      0              113794   26.5500          NaN        S\n",
      "449          450         1       1                  Peuchen, Major. Arthur Godfrey  male  52.0      0      0              113786   30.5000         C104        S\n",
      "450          451         0       2                           West, Mr. Edwy Arthur  male  36.0      1      2          C.A. 34651   27.7500          NaN        S\n",
      "453          454         1       1                        Goldenberg, Mr. Samuel L  male  49.0      1      0               17453   89.1042          C92        C\n",
      "456          457         0       1                       Millet, Mr. Francis Davis  male  65.0      0      0               13509   26.5500          E38        S\n",
      "460          461         1       1                             Anderson, Mr. Harry  male  48.0      0      0               19952   26.5500          E12        S\n",
      "461          462         0       3                             Morley, Mr. William  male  34.0      0      0              364506    8.0500          NaN        S\n",
      "462          463         0       1                               Gee, Mr. Arthur H  male  47.0      0      0              111320   38.5000          E63        S\n",
      "463          464         0       2                    Milling, Mr. Jacob Christian  male  48.0      0      0              234360   13.0000          NaN        S\n",
      "465          466         0       3                 Goncalves, Mr. Manuel Estanslas  male  38.0      0      0  SOTON/O.Q. 3101306    7.0500          NaN        S\n",
      "467          468         0       1                      Smart, Mr. John Montgomery  male  56.0      0      0              113792   26.5500          NaN        S\n",
      "471          472         0       3                                 Cacic, Mr. Luka  male  38.0      0      0              315089    8.6625          NaN        S\n",
      "476          477         0       2                         Renouf, Mr. Peter Henry  male  34.0      1      0               31027   21.0000          NaN        S\n",
      "482          483         0       3                        Rouse, Mr. Richard Henry  male  50.0      0      0            A/5 3594    8.0500          NaN        S\n",
      "487          488         0       1                         Kent, Mr. Edward Austin  male  58.0      0      0               11771   29.7000          B37        C\n",
      "492          493         0       1                      Molson, Mr. Harry Markland  male  55.0      0      0              113787   30.5000          C30        S\n",
      "493          494         0       1                         Artagaveytia, Mr. Ramon  male  71.0      0      0            PC 17609   49.5042          NaN        C\n",
      "512          513         1       1                       McGough, Mr. James Robert  male  36.0      0      0            PC 17473   26.2875          E25        S\n",
      "515          516         0       1                    Walker, Mr. William Anderson  male  47.0      0      0               36967   34.0208          D46        S\n",
      "519          520         0       3                             Pavlovic, Mr. Stefo  male  32.0      0      0              349242    7.8958          NaN        S\n",
      "525          526         0       3                              Farrell, Mr. James  male  40.5      0      0              367232    7.7500          NaN        Q\n",
      "528          529         0       3                       Salonen, Mr. Johan Werner  male  39.0      0      0             3101296    7.9250          NaN        S\n",
      "536          537         0       1               Butt, Major. Archibald Willingham  male  45.0      0      0              113050   26.5500          B38        S\n",
      "543          544         1       2                               Beane, Mr. Edward  male  32.0      1      0                2908   26.0000          NaN        S\n",
      "544          545         0       1                      Douglas, Mr. Walter Donald  male  50.0      1      0            PC 17761  106.4250          C86        C\n",
      "545          546         0       1                    Nicholson, Mr. Arthur Ernest  male  64.0      0      0                 693   26.0000          NaN        S\n",
      "548          549         0       3                       Goldsmith, Mr. Frank John  male  33.0      1      1              363291   20.5250          NaN        S\n",
      "555          556         0       1                              Wright, Mr. George  male  62.0      0      0              113807   26.5500          NaN        S\n",
      "561          562         0       3                               Sivic, Mr. Husein  male  40.0      0      0              349251    7.8958          NaN        S\n",
      "569          570         1       3                               Jonsson, Mr. Carl  male  32.0      0      0              350417    7.8542          NaN        S\n",
      "570          571         1       2                              Harris, Mr. George  male  62.0      0      0         S.W./PP 752   10.5000          NaN        S\n",
      "572          573         1       1                Flynn, Mr. John Irwin (\"Irving\")  male  36.0      0      0            PC 17474   26.3875          E25        S\n",
      "579          580         1       3                             Jussila, Mr. Eiriik  male  32.0      0      0   STON/O 2. 3101286    7.9250          NaN        S\n",
      "582          583         0       2                      Downton, Mr. William James  male  54.0      0      0               28403   26.0000          NaN        S\n",
      "583          584         0       1                             Ross, Mr. John Hugo  male  36.0      0      0               13049   40.1250          A10        C\n",
      "586          587         0       2                         Jarvis, Mr. John Denzil  male  47.0      0      0              237565   15.0000          NaN        S\n",
      "587          588         1       1                Frolicher-Stehli, Mr. Maxmillian  male  60.0      1      1               13567   79.2000          B41        C\n",
      "590          591         0       3                            Rintamaki, Mr. Matti  male  35.0      0      0   STON/O 2. 3101273    7.1250          NaN        S\n",
      "592          593         0       3                      Elsbury, Mr. William James  male  47.0      0      0            A/5 3902    7.2500          NaN        S\n",
      "594          595         0       2                         Chapman, Mr. John Henry  male  37.0      1      0         SC/AH 29037   26.0000          NaN        S\n",
      "595          596         0       3                     Van Impe, Mr. Jean Baptiste  male  36.0      1      1              345773   24.1500          NaN        S\n",
      "597          598         0       3                             Johnson, Mr. Alfred  male  49.0      0      0                LINE    0.0000          NaN        S\n",
      "599          600         1       1    Duff Gordon, Sir. Cosmo Edmund (\"Mr Morgan\")  male  49.0      1      0            PC 17485   56.9292          A20        C\n",
      "603          604         0       3                       Torber, Mr. Ernst William  male  44.0      0      0              364511    8.0500          NaN        S\n",
      "604          605         1       1                 Homer, Mr. Harry (\"Mr E Haven\")  male  35.0      0      0              111426   26.5500          NaN        C\n",
      "605          606         0       3                   Lindell, Mr. Edvard Bengtsson  male  36.0      1      0              349910   15.5500          NaN        S\n",
      "614          615         0       3                 Brocklebank, Mr. William Alfred  male  35.0      0      0              364512    8.0500          NaN        S\n",
      "616          617         0       3                       Danbom, Mr. Ernst Gilbert  male  34.0      1      1              347080   14.4000          NaN        S\n",
      "621          622         1       1                    Kimball, Mr. Edwin Nelson Jr  male  42.0      1      0               11753   52.5542          D19        S\n",
      "625          626         0       1                           Sutton, Mr. Frederick  male  61.0      0      0               36963   32.3208          D50        S\n",
      "626          627         0       2                  Kirkland, Rev. Charles Leonard  male  57.0      0      0              219533   12.3500          NaN        Q\n",
      "630          631         1       1            Barkworth, Mr. Algernon Henry Wilson  male  80.0      0      0               27042   30.0000          A23        S\n",
      "631          632         0       3                     Lundahl, Mr. Johan Svensson  male  51.0      0      0              347743    7.0542          NaN        S\n",
      "632          633         1       1                       Stahelin-Maeglin, Dr. Max  male  32.0      0      0               13214   30.5000          B50        C\n",
      "636          637         0       3                      Leinonen, Mr. Antti Gustaf  male  32.0      0      0   STON/O 2. 3101292    7.9250          NaN        S\n",
      "637          638         0       2                             Collyer, Mr. Harvey  male  31.0      1      1          C.A. 31921   26.2500          NaN        S\n",
      "645          646         1       1                       Harper, Mr. Henry Sleeper  male  48.0      1      0            PC 17572   76.7292          D33        C\n",
      "647          648         1       1             Simonius-Blumer, Col. Oberst Alfons  male  56.0      0      0               13213   35.5000          A26        C\n",
      "659          660         0       1                      Newell, Mr. Arthur Webster  male  58.0      0      2               35273  113.2750          D48        C\n",
      "660          661         1       1                   Frauenthal, Dr. Henry William  male  50.0      2      0            PC 17611  133.6500          NaN        S\n",
      "661          662         0       3                               Badt, Mr. Mohamed  male  40.0      0      0                2623    7.2250          NaN        C\n",
      "662          663         0       1                      Colley, Mr. Edward Pomeroy  male  47.0      0      0                5727   25.5875          E58        S\n",
      "663          664         0       3                                Coleff, Mr. Peju  male  36.0      0      0              349210    7.4958          NaN        S\n",
      "665          666         0       2                              Hickman, Mr. Lewis  male  32.0      2      0        S.O.C. 14879   73.5000          NaN        S\n",
      "668          669         0       3                                 Cook, Mr. Jacob  male  43.0      0      0            A/5 3536    8.0500          NaN        S\n",
      "671          672         0       1                          Davidson, Mr. Thornton  male  31.0      1      0          F.C. 12750   52.0000          B71        S\n",
      "672          673         0       2                     Mitchell, Mr. Henry Michael  male  70.0      0      0          C.A. 24580   10.5000          NaN        S\n",
      "673          674         1       2                           Wilhelms, Mr. Charles  male  31.0      0      0              244270   13.0000          NaN        S\n",
      "679          680         1       1              Cardeza, Mr. Thomas Drake Martinez  male  36.0      0      1            PC 17755  512.3292  B51 B53 B55        C\n",
      "684          685         0       2               Brown, Mr. Thomas William Solomon  male  60.0      1      1               29750   39.0000          NaN        S\n",
      "690          691         1       1                         Dick, Mr. Albert Adrian  male  31.0      1      0               17474   57.0000          B20        S\n",
      "694          695         0       1                                 Weir, Col. John  male  60.0      0      0              113800   26.5500          NaN        S\n",
      "695          696         0       2                      Chapman, Mr. Charles Henry  male  52.0      0      0              248731   13.5000          NaN        S\n",
      "696          697         0       3                                Kelly, Mr. James  male  44.0      0      0              363592    8.0500          NaN        S\n",
      "698          699         0       1                        Thayer, Mr. John Borland  male  49.0      1      1               17421  110.8833          C68        C\n",
      "699          700         0       3        Humblen, Mr. Adolf Mathias Nicolai Olsen  male  42.0      0      0              348121    7.6500        F G63        S\n",
      "701          702         1       1                Silverthorne, Mr. Spencer Victor  male  35.0      0      0            PC 17475   26.2875          E24        S\n",
      "705          706         0       2  Morley, Mr. Henry Samuel (\"Mr Henry Marshall\")  male  39.0      0      0              250655   26.0000          NaN        S\n",
      "707          708         1       1               Calderhead, Mr. Edward Pennington  male  42.0      0      0            PC 17476   26.2875          E24        S\n",
      "712          713         1       1                        Taylor, Mr. Elmer Zebley  male  48.0      1      0               19996   52.0000         C126        S\n",
      "714          715         0       2                           Greenberg, Mr. Samuel  male  52.0      0      0              250647   13.0000          NaN        S\n",
      "719          720         0       3                    Johnson, Mr. Malkolm Joackim  male  33.0      0      0              347062    7.7750          NaN        S\n",
      "722          723         0       2                    Gillespie, Mr. William Henry  male  34.0      0      0               12233   13.0000          NaN        S\n",
      "723          724         0       2                         Hodges, Mr. Henry Price  male  50.0      0      0              250643   13.0000          NaN        S\n",
      "737          738         1       1                          Lesurer, Mr. Gustave J  male  35.0      0      0            PC 17755  512.3292         B101        C\n",
      "741          742         0       1                   Cavendish, Mr. Tyrell William  male  36.0      1      0               19877   78.8500          C46        S\n",
      "744          745         1       3                              Stranden, Mr. Juho  male  31.0      0      0   STON/O 2. 3101288    7.9250          NaN        S\n",
      "745          746         0       1                    Crosby, Capt. Edward Gifford  male  70.0      1      1           WE/P 5735   71.0000          B22        S\n",
      "749          750         0       3                         Connaghton, Mr. Michael  male  31.0      0      0              335097    7.7500          NaN        Q\n",
      "752          753         0       3                Vande Velde, Mr. Johannes Joseph  male  33.0      0      0              345780    9.5000          NaN        S\n",
      "758          759         0       3                    Theobald, Mr. Thomas Leonard  male  34.0      0      0              363294    8.0500          NaN        S\n",
      "761          762         0       3                  Nirva, Mr. Iisakki Antino Aijo  male  41.0      0      0    SOTON/O2 3101272    7.1250          NaN        S\n",
      "769          770         0       3                Gronnestad, Mr. Daniel Danielsen  male  32.0      0      0                8471    8.3625          NaN        S\n",
      "771          772         0       3                         Jensen, Mr. Niels Peder  male  48.0      0      0              350047    7.8542          NaN        S\n",
      "789          790         0       1                        Guggenheim, Mr. Benjamin  male  46.0      0      0            PC 17593   79.2000      B82 B84        C\n",
      "795          796         0       2                              Otter, Mr. Richard  male  39.0      0      0               28213   13.0000          NaN        S\n",
      "800          801         0       2                            Ponesell, Mr. Martin  male  34.0      0      0              250647   13.0000          NaN        S\n",
      "805          806         0       3                       Johansson, Mr. Karl Johan  male  31.0      0      0              347063    7.7750          NaN        S\n",
      "806          807         0       1                          Andrews, Mr. Thomas Jr  male  39.0      0      0              112050    0.0000          A36        S\n",
      "808          809         0       2                               Meyer, Mr. August  male  39.0      0      0              248723   13.0000          NaN        S\n",
      "811          812         0       3                               Lester, Mr. James  male  39.0      0      0           A/4 48871   24.1500          NaN        S\n",
      "812          813         0       2                       Slemen, Mr. Richard James  male  35.0      0      0               28206   10.5000          NaN        S\n",
      "814          815         0       3                      Tomlin, Mr. Ernest Portage  male  30.5      0      0              364499    8.0500          NaN        S\n",
      "817          818         0       2                              Mallet, Mr. Albert  male  31.0      1      1     S.C./PARIS 2079   37.0042          NaN        C\n",
      "818          819         0       3                Holm, Mr. John Fredrik Alexander  male  43.0      0      0              C 7075    6.4500          NaN        S\n",
      "822          823         0       1                 Reuchlin, Jonkheer. John George  male  38.0      0      0               19972    0.0000          NaN        S\n",
      "838          839         1       3                                 Chip, Mr. Chang  male  32.0      0      0                1601   56.4958          NaN        S\n",
      "843          844         0       3                      Lemberopolous, Mr. Peter L  male  34.5      0      0                2683    6.4375          NaN        C\n",
      "845          846         0       3                             Abbing, Mr. Anthony  male  42.0      0      0           C.A. 5547    7.5500          NaN        S\n",
      "847          848         0       3                              Markoff, Mr. Marin  male  35.0      0      0              349213    7.8958          NaN        C\n",
      "851          852         0       3                             Svensson, Mr. Johan  male  74.0      0      0              347060    7.7750          NaN        S\n",
      "857          858         1       1                          Daly, Mr. Peter Denis   male  51.0      0      0              113055   26.5500          E17        S\n",
      "860          861         0       3                         Hansen, Mr. Claus Peter  male  41.0      2      0              350026   14.1083          NaN        S\n",
      "867          868         0       1            Roebling, Mr. Washington Augustus II  male  31.0      0      0            PC 17590   50.4958          A24        S\n",
      "872          873         0       1                        Carlsson, Mr. Frans Olof  male  33.0      0      0                 695    5.0000  B51 B53 B55        S\n",
      "873          874         0       3                     Vander Cruyssen, Mr. Victor  male  47.0      0      0              345765    9.0000          NaN        S\n",
      "881          882         0       3                              Markun, Mr. Johann  male  33.0      0      0              349257    7.8958          NaN        S\n",
      "890          891         0       3                             Dooley, Mr. Patrick  male  32.0      0      0              370376    7.7500          NaN        Q\n"
     ]
    }
   ],
   "source": [
    "# Выбор столбца по метке\n",
    "# Используйте синтаксис DataFrame['название_столбца']\n",
    "# write your code here\n",
    "print(data_frame[\"PassengerId\"])\n",
    "\n",
    "\n",
    "# Выбор нескольких столбцов\n",
    "# Используйте синтаксис DataFrame[['столбец_1', 'столбец_2']]\n",
    "# write your code here\n",
    "print(data_frame[[\"PassengerId\", \"Survived\"]])\n",
    "\n",
    "\n",
    "# Выбор строк по индексу\n",
    "# Используйте метод .loc[]\n",
    "# write your code here\n",
    "print(data_frame.loc[3])\n",
    "\n",
    "\n",
    "# Выбор строк и столбцов по условию\n",
    "# Используя логические операции, выберите мужчин старше 30\n",
    "# write your code here\n",
    "print(data_frame.loc[(data_frame[\"Sex\"] == \"male\") & (data_frame[\"Age\"] > 30)].to_string())"
   ]
  },
  {
   "cell_type": "markdown",
   "id": "f3102de8-d2fd-4593-bf26-721316ae51e9",
   "metadata": {},
   "source": [
    "### Сортировка данных\n",
    "Сортировка данных по значениям столбцов."
   ]
  },
  {
   "cell_type": "code",
   "execution_count": 27,
   "id": "de5e850c-e920-4ae4-aadb-3f1953438b09",
   "metadata": {
    "tags": []
   },
   "outputs": [
    {
     "name": "stdout",
     "output_type": "stream",
     "text": [
      "     PassengerId  Survived  Pclass  \\\n",
      "0              1         0       3   \n",
      "1              2         1       1   \n",
      "2              3         1       3   \n",
      "3              4         1       1   \n",
      "4              5         0       3   \n",
      "..           ...       ...     ...   \n",
      "886          887         0       2   \n",
      "887          888         1       1   \n",
      "888          889         0       3   \n",
      "889          890         1       1   \n",
      "890          891         0       3   \n",
      "\n",
      "                                                  Name     Sex   Age  SibSp  \\\n",
      "0                              Braund, Mr. Owen Harris    male  22.0      1   \n",
      "1    Cumings, Mrs. John Bradley (Florence Briggs Th...  female  38.0      1   \n",
      "2                               Heikkinen, Miss. Laina  female  26.0      0   \n",
      "3         Futrelle, Mrs. Jacques Heath (Lily May Peel)  female  35.0      1   \n",
      "4                             Allen, Mr. William Henry    male  35.0      0   \n",
      "..                                                 ...     ...   ...    ...   \n",
      "886                              Montvila, Rev. Juozas    male  27.0      0   \n",
      "887                       Graham, Miss. Margaret Edith  female  19.0      0   \n",
      "888           Johnston, Miss. Catherine Helen \"Carrie\"  female   NaN      1   \n",
      "889                              Behr, Mr. Karl Howell    male  26.0      0   \n",
      "890                                Dooley, Mr. Patrick    male  32.0      0   \n",
      "\n",
      "     Parch            Ticket     Fare Cabin Embarked  \n",
      "0        0         A/5 21171   7.2500   NaN        S  \n",
      "1        0          PC 17599  71.2833   C85        C  \n",
      "2        0  STON/O2. 3101282   7.9250   NaN        S  \n",
      "3        0            113803  53.1000  C123        S  \n",
      "4        0            373450   8.0500   NaN        S  \n",
      "..     ...               ...      ...   ...      ...  \n",
      "886      0            211536  13.0000   NaN        S  \n",
      "887      0            112053  30.0000   B42        S  \n",
      "888      2        W./C. 6607  23.4500   NaN        S  \n",
      "889      0            111369  30.0000  C148        C  \n",
      "890      0            370376   7.7500   NaN        Q  \n",
      "\n",
      "[891 rows x 12 columns]\n"
     ]
    }
   ],
   "source": [
    "# Сортировка данных по столбцу 'столбец_1' по возрастанию\n",
    "# Используйте метод .sort_values()\n",
    "# write your code here\n",
    "print(data_frame.sort_values(by=\"PassengerId\"))"
   ]
  },
  {
   "cell_type": "markdown",
   "id": "eab3cd85-5e96-4228-8834-9ef53b93689a",
   "metadata": {},
   "source": [
    "### Группировка данных\n",
    "Pandas также позволяет группировать данные и выполнять агрегирующие операции."
   ]
  },
  {
   "cell_type": "code",
   "execution_count": 28,
   "id": "25ced901-0482-49a8-8c12-d192e84e3fb3",
   "metadata": {
    "tags": []
   },
   "outputs": [
    {
     "name": "stdout",
     "output_type": "stream",
     "text": [
      "Pclass\n",
      "1    0.629630\n",
      "2    0.472826\n",
      "3    0.242363\n",
      "Name: Survived, dtype: float64\n"
     ]
    }
   ],
   "source": [
    "# Найдите долю выживших среди всех PClass\n",
    "# Используйте метод .groupby()\n",
    "# write your code here\n",
    "survival_rate_by_class = data_frame.groupby('Pclass')['Survived'].mean()\n",
    "\n",
    "print(survival_rate_by_class)"
   ]
  },
  {
   "cell_type": "markdown",
   "id": "d0355db7-7bf9-46d1-ad51-5f2eddc42501",
   "metadata": {},
   "source": [
    "## Часть 4: Задания для практики\n",
    "Прочитайте данные из файла 'titanic.csv'.\n",
    "Проверьте, есть ли пропущенные значения в данных и заполните их нулями.\n",
    "Выведите первые 10 строк данных.\n",
    "Выберите только те строки, где значение в столбце 'Age' больше 30.\n",
    "Отсортируйте данные по столбцу 'Fare' в порядке убывания.\n",
    "Сгруппируйте данные по столбцу 'Pclass' и вычислите средний возраст ('Age') для каждого класса."
   ]
  },
  {
   "cell_type": "code",
   "execution_count": 29,
   "id": "a1b4deaa-cd06-41b3-8084-5c2d3a867811",
   "metadata": {},
   "outputs": [
    {
     "name": "stdout",
     "output_type": "stream",
     "text": [
      "   PassengerId  Survived  Pclass  \\\n",
      "0            1         0       3   \n",
      "1            2         1       1   \n",
      "2            3         1       3   \n",
      "3            4         1       1   \n",
      "4            5         0       3   \n",
      "5            6         0       3   \n",
      "6            7         0       1   \n",
      "7            8         0       3   \n",
      "8            9         1       3   \n",
      "9           10         1       2   \n",
      "\n",
      "                                                Name     Sex   Age  SibSp  \\\n",
      "0                            Braund, Mr. Owen Harris    male  22.0      1   \n",
      "1  Cumings, Mrs. John Bradley (Florence Briggs Th...  female  38.0      1   \n",
      "2                             Heikkinen, Miss. Laina  female  26.0      0   \n",
      "3       Futrelle, Mrs. Jacques Heath (Lily May Peel)  female  35.0      1   \n",
      "4                           Allen, Mr. William Henry    male  35.0      0   \n",
      "5                                   Moran, Mr. James    male   NaN      0   \n",
      "6                            McCarthy, Mr. Timothy J    male  54.0      0   \n",
      "7                     Palsson, Master. Gosta Leonard    male   2.0      3   \n",
      "8  Johnson, Mrs. Oscar W (Elisabeth Vilhelmina Berg)  female  27.0      0   \n",
      "9                Nasser, Mrs. Nicholas (Adele Achem)  female  14.0      1   \n",
      "\n",
      "   Parch            Ticket     Fare Cabin Embarked  \n",
      "0      0         A/5 21171   7.2500   NaN        S  \n",
      "1      0          PC 17599  71.2833   C85        C  \n",
      "2      0  STON/O2. 3101282   7.9250   NaN        S  \n",
      "3      0            113803  53.1000  C123        S  \n",
      "4      0            373450   8.0500   NaN        S  \n",
      "5      0            330877   8.4583   NaN        Q  \n",
      "6      0             17463  51.8625   E46        S  \n",
      "7      1            349909  21.0750   NaN        S  \n",
      "8      2            347742  11.1333   NaN        S  \n",
      "9      0            237736  30.0708   NaN        C  \n",
      "Pclass\n",
      "1    46.196000\n",
      "2    41.694805\n",
      "3    39.883495\n"
     ]
    }
   ],
   "source": [
    "data_frame = pd.read_csv(\"titanic.csv\")\n",
    "data_frame.fillna(0)\n",
    "print(data_frame.head(10))\n",
    "more_30_years = data_frame.loc[(data_frame['Age'] > 30)]\n",
    "sorted_by_fare = more_30_years.sort_values(by='Fare', ascending=False)\n",
    "group_by_pclass = sorted_by_fare.groupby('Pclass')['Age'].mean()\n",
    "print(group_by_pclass.to_string())"
   ]
  },
  {
   "cell_type": "code",
   "execution_count": null,
   "id": "d930054a-eacf-47f6-90cb-2c1ea319b036",
   "metadata": {},
   "outputs": [],
   "source": []
  }
 ],
 "metadata": {
  "kernelspec": {
   "display_name": "Python 3 (ipykernel)",
   "language": "python",
   "name": "python3"
  },
  "language_info": {
   "codemirror_mode": {
    "name": "ipython",
    "version": 3
   },
   "file_extension": ".py",
   "mimetype": "text/x-python",
   "name": "python",
   "nbconvert_exporter": "python",
   "pygments_lexer": "ipython3",
   "version": "3.11.2"
  }
 },
 "nbformat": 4,
 "nbformat_minor": 5
}
